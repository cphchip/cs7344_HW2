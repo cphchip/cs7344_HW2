{
 "cells": [
  {
   "cell_type": "code",
   "execution_count": 1,
   "metadata": {},
   "outputs": [
    {
     "name": "stdout",
     "output_type": "stream",
     "text": [
      "S1 dot C =  1\n",
      "S2 dot C =  1\n",
      "S3 dot C =  0\n",
      "S4 dot C =  1\n",
      "S5 dot C =  1\n",
      "S6 dot C =  -1\n"
     ]
    }
   ],
   "source": [
    "# CDMA Multiplexing\n",
    "\n",
    "import numpy as np\n",
    "\n",
    "A = np.array([-1, -1, -1, 1, 1, -1, 1, 1])\n",
    "B = np.array([-1, -1, 1, -1, 1, 1, 1, -1])\n",
    "C = np.array([-1, 1, -1, 1, 1, 1, -1, -1])\n",
    "D = np.array([-1, 1, -1, -1, -1, -1, 1, -1])\n",
    "\n",
    "S1 = C\n",
    "S2 = B + C\n",
    "S3 = A + (-B)\n",
    "S4 = A + (-B) + C\n",
    "S5 = A + B + C + D\n",
    "S6 = A + B + (-C) + D\n",
    "\n",
    "print(\"S1 dot C = \", int(S1.dot(C)/8))\n",
    "print(\"S2 dot C = \", int(S2.dot(C)/8))\n",
    "print(\"S3 dot C = \", int(S3.dot(C)/8))\n",
    "print(\"S4 dot C = \", int(S4.dot(C)/8))\n",
    "print(\"S5 dot C = \", int(S5.dot(C)/8))\n",
    "print(\"S6 dot C = \", int(S6.dot(C)/8))"
   ]
  },
  {
   "cell_type": "code",
   "execution_count": null,
   "metadata": {},
   "outputs": [],
   "source": []
  }
 ],
 "metadata": {
  "kernelspec": {
   "display_name": "base",
   "language": "python",
   "name": "python3"
  },
  "language_info": {
   "codemirror_mode": {
    "name": "ipython",
    "version": 3
   },
   "file_extension": ".py",
   "mimetype": "text/x-python",
   "name": "python",
   "nbconvert_exporter": "python",
   "pygments_lexer": "ipython3",
   "version": "3.12.4"
  }
 },
 "nbformat": 4,
 "nbformat_minor": 2
}
